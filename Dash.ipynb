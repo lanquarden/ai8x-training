{
 "cells": [
  {
   "cell_type": "markdown",
   "id": "de57f980",
   "metadata": {},
   "source": [
    "# Dash\n",
    "\n",
    "## Prepare dataset\n",
    "\n",
    "Calculate the weights of the classes relative to the sample size"
   ]
  },
  {
   "cell_type": "code",
   "execution_count": 6,
   "id": "17103b43",
   "metadata": {},
   "outputs": [
    {
     "name": "stdout",
     "output_type": "stream",
     "text": [
      "blinds: 0.008\n",
      "dash: 0.008\n",
      "down: 1.0\n",
      "energy: 0.008\n",
      "lights: 0.008\n",
      "off: 0.974\n",
      "on: 1.0\n",
      "up: 1.0\n"
     ]
    }
   ],
   "source": [
    "from pathlib import Path\n",
    "\n",
    "raw_data_path = Path('data/KWS_DASH/raw')\n",
    "class_file_count = {}\n",
    "\n",
    "class_dirs = [d for d in raw_data_path.iterdir() if d.is_dir() and d.stem != \"_background_noise_\"]\n",
    "\n",
    "\n",
    "for d in class_dirs:\n",
    "    class_file_count[d] = len(list(d.iterdir()))\n",
    "\n",
    "for d in class_dirs:\n",
    "    class_file_count[d] = class_file_count[d] / float(max(class_file_count.values()))\n",
    "    print(f\"{d.stem}: {round(class_file_count[d], 3)}\")"
   ]
  },
  {
   "cell_type": "markdown",
   "id": "d059e7d5",
   "metadata": {},
   "source": [
    "Generate processed dataset"
   ]
  },
  {
   "cell_type": "code",
   "execution_count": 8,
   "id": "95e1a49f",
   "metadata": {},
   "outputs": [
    {
     "name": "stdout",
     "output_type": "stream",
     "text": [
      "No key `noise_var` in input augmentation dictionary!  Using defaults: [Min: 0., Max: 1.]\n",
      "No key `shift` in input augmentation dictionary! Using defaults: [Min:-0.1, Max: 0.1]\n",
      "No key `strech` in input augmentation dictionary! Using defaults: [Min: 0.8, Max: 1.3]\n",
      "Generating dataset from raw data samples for the first time. \n",
      "This process will take significant time (~60 minutes)...\n",
      "data_len: 16384\n",
      "------------- Label Size ---------------\n",
      "blinds  :  \t31\n",
      "dash    :  \t31\n",
      "down    :  \t3917\n",
      "energy  :  \t32\n",
      "lights  :  \t32\n",
      "off     :  \t3745\n",
      "on      :  \t3845\n",
      "up      :  \t3723\n",
      "------------------------------------------\n",
      "Processing the label: blinds. 1 of 8\n",
      "\t1 of 31\n",
      "Finished in 1.108 seconds.\n",
      "(93, 128, 128)\n",
      "Data concatenation finished in 0.000 seconds.\n",
      "Processing the label: dash. 2 of 8\n",
      "\t1 of 31\n",
      "Finished in 1.063 seconds.\n",
      "(93, 128, 128)\n",
      "Data concatenation finished in 0.016 seconds.\n",
      "Processing the label: down. 3 of 8\n",
      "\t1 of 3917\n",
      "\t1001 of 3917\n",
      "\t2001 of 3917\n",
      "\t3001 of 3917\n",
      "Finished in 134.412 seconds.\n",
      "(11751, 128, 128)\n",
      "Data concatenation finished in 0.023 seconds.\n",
      "Processing the label: energy. 4 of 8\n",
      "\t1 of 32\n",
      "Finished in 1.056 seconds.\n",
      "(96, 128, 128)\n",
      "Data concatenation finished in 0.053 seconds.\n",
      "Processing the label: lights. 5 of 8\n",
      "\t1 of 32\n",
      "Finished in 1.096 seconds.\n",
      "(96, 128, 128)\n",
      "Data concatenation finished in 0.055 seconds.\n",
      "Processing the label: off. 6 of 8\n",
      "\t1 of 3745\n",
      "\t1001 of 3745\n",
      "\t2001 of 3745\n",
      "\t3001 of 3745\n",
      "Finished in 125.981 seconds.\n",
      "(11235, 128, 128)\n",
      "Data concatenation finished in 0.092 seconds.\n",
      "Processing the label: on. 7 of 8\n",
      "\t1 of 3845\n",
      "\t1001 of 3845\n",
      "\t2001 of 3845\n",
      "\t3001 of 3845\n",
      "Finished in 127.871 seconds.\n",
      "(11535, 128, 128)\n",
      "Data concatenation finished in 0.163 seconds.\n",
      "Processing the label: up. 8 of 8\n",
      "\t1 of 3723\n",
      "\t1001 of 3723\n",
      "\t2001 of 3723\n",
      "\t3001 of 3723\n",
      "Finished in 122.664 seconds.\n",
      "(11169, 128, 128)\n",
      "Data concatenation finished in 0.193 seconds.\n",
      "Dataset created.\n",
      "Training+Validation: 3348,  Test: 375\n",
      "\n",
      "Processing train...\n",
      "Class up (# 30): 0 elements\n",
      "Class down (# 5): 10164 elements\n",
      "Class dash (# 35): 0 elements\n",
      "Class on (# 20): 0 elements\n",
      "Class off (# 19): 0 elements\n",
      "Class energy (# 36): 0 elements\n",
      "Class lights (# 37): 0 elements\n",
      "Class blinds (# 38): 0 elements\n",
      "Class UNKNOWN: 31371 elements\n",
      "\n",
      "Processing test...\n",
      "Class up (# 30): 0 elements\n",
      "Class down (# 5): 1071 elements\n",
      "Class dash (# 35): 0 elements\n",
      "Class on (# 20): 0 elements\n",
      "Class off (# 19): 0 elements\n",
      "Class energy (# 36): 0 elements\n",
      "Class lights (# 37): 0 elements\n",
      "Class blinds (# 38): 0 elements\n",
      "Class UNKNOWN: 3462 elements\n"
     ]
    },
    {
     "data": {
      "text/plain": [
       "(<datasets.kws20.KWS_DASH at 0x16fb5298be0>,\n",
       " <datasets.kws20.KWS_DASH at 0x16fb524cc40>)"
      ]
     },
     "execution_count": 8,
     "metadata": {},
     "output_type": "execute_result"
    }
   ],
   "source": [
    "import datasets.kws20 as kws20\n",
    "kws20.KWS_DASH_get_datasets(('data', ''))"
   ]
  },
  {
   "cell_type": "code",
   "execution_count": null,
   "id": "8de49b3b",
   "metadata": {},
   "outputs": [],
   "source": []
  }
 ],
 "metadata": {
  "kernelspec": {
   "display_name": "Python 3 (ipykernel)",
   "language": "python",
   "name": "python3"
  },
  "language_info": {
   "codemirror_mode": {
    "name": "ipython",
    "version": 3
   },
   "file_extension": ".py",
   "mimetype": "text/x-python",
   "name": "python",
   "nbconvert_exporter": "python",
   "pygments_lexer": "ipython3",
   "version": "3.8.10"
  }
 },
 "nbformat": 4,
 "nbformat_minor": 5
}
